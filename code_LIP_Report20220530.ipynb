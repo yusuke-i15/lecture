{
 "cells": [
  {
   "cell_type": "code",
   "execution_count": 1,
   "id": "973d5cb4",
   "metadata": {},
   "outputs": [],
   "source": [
    "import datasets\n",
    "import numpy as np\n",
    "from sklearn.manifold import TSNE\n",
    "import matplotlib.pyplot as plt"
   ]
  },
  {
   "cell_type": "code",
   "execution_count": 2,
   "id": "0ebd0aa5",
   "metadata": {},
   "outputs": [
    {
     "name": "stderr",
     "output_type": "stream",
     "text": [
      "Using custom data configuration en-lang=en\n"
     ]
    },
    {
     "name": "stdout",
     "output_type": "stream",
     "text": [
      "Downloading and preparing dataset cc100/en to C:\\Users\\81702\\.cache\\huggingface\\datasets\\cc100\\en-lang=en\\0.0.0\\8159941b93eb06d0288bb80be26ddfe8213c0c5e33286619c85ad8e1ee0eb91c...\n"
     ]
    },
    {
     "data": {
      "application/vnd.jupyter.widget-view+json": {
       "model_id": "",
       "version_major": 2,
       "version_minor": 0
      },
      "text/plain": [
       "Generating train split: 0 examples [00:00, ? examples/s]"
      ]
     },
     "metadata": {},
     "output_type": "display_data"
    },
    {
     "name": "stdout",
     "output_type": "stream",
     "text": [
      "Dataset cc100 downloaded and prepared to C:\\Users\\81702\\.cache\\huggingface\\datasets\\cc100\\en-lang=en\\0.0.0\\8159941b93eb06d0288bb80be26ddfe8213c0c5e33286619c85ad8e1ee0eb91c. Subsequent calls will reuse this data.\n"
     ]
    },
    {
     "data": {
      "application/vnd.jupyter.widget-view+json": {
       "model_id": "723822c3fe54423aa66e82d95ecdbf0f",
       "version_major": 2,
       "version_minor": 0
      },
      "text/plain": [
       "  0%|          | 0/1 [00:00<?, ?it/s]"
      ]
     },
     "metadata": {},
     "output_type": "display_data"
    }
   ],
   "source": [
    "datasets.HF_DATASETS_OFFLINE = 1\n",
    "dataset = datasets.load_dataset(\"cc100\",lang=\"en\")"
   ]
  },
  {
   "cell_type": "code",
   "execution_count": 8,
   "id": "88dcd510",
   "metadata": {},
   "outputs": [
    {
     "name": "stdout",
     "output_type": "stream",
     "text": [
      "Stored 'dataset' (DatasetDict)\n"
     ]
    }
   ],
   "source": [
    "%store dataset"
   ]
  },
  {
   "cell_type": "code",
   "execution_count": 214,
   "id": "134fe655",
   "metadata": {
    "scrolled": true
   },
   "outputs": [
    {
     "name": "stderr",
     "output_type": "stream",
     "text": [
      "Some weights of the model checkpoint at bert-base-uncased were not used when initializing BertModel: ['cls.predictions.transform.LayerNorm.weight', 'cls.predictions.decoder.weight', 'cls.predictions.transform.LayerNorm.bias', 'cls.seq_relationship.bias', 'cls.seq_relationship.weight', 'cls.predictions.transform.dense.weight', 'cls.predictions.bias', 'cls.predictions.transform.dense.bias']\n",
      "- This IS expected if you are initializing BertModel from the checkpoint of a model trained on another task or with another architecture (e.g. initializing a BertForSequenceClassification model from a BertForPreTraining model).\n",
      "- This IS NOT expected if you are initializing BertModel from the checkpoint of a model that you expect to be exactly identical (initializing a BertForSequenceClassification model from a BertForSequenceClassification model).\n"
     ]
    }
   ],
   "source": [
    "#get pretrained BERT like model\n",
    "from transformers import BertTokenizer,BertModel\n",
    "import torch\n",
    "\n",
    "tokenizer = BertTokenizer.from_pretrained(\"bert-base-uncased\")\n",
    "model = BertModel.from_pretrained(\"bert-base-uncased\")"
   ]
  },
  {
   "cell_type": "markdown",
   "id": "a5e6bc58",
   "metadata": {},
   "source": [
    "## functions"
   ]
  },
  {
   "cell_type": "code",
   "execution_count": 227,
   "id": "5b25a5b8",
   "metadata": {},
   "outputs": [],
   "source": [
    "#extract sentences which include token from dataset\n",
    "def extract_token(token,max_texts,max_loop):\n",
    "    texts = []\n",
    "    for i in range(max_loop):\n",
    "        text = dataset[\"train\"][i][\"text\"]\n",
    "        if token in text:\n",
    "            texts.append(text.replace(\"\\n\",\",\"))\n",
    "            if len(texts) == max_texts:\n",
    "                break\n",
    "    print(len(texts))\n",
    "    return texts"
   ]
  },
  {
   "cell_type": "code",
   "execution_count": 221,
   "id": "87ee67b8",
   "metadata": {},
   "outputs": [],
   "source": [
    "#get representation vector of token\n",
    "def get_vector_rep(texts,token,add):\n",
    "    token_num = tokenizer.encode(token)[1]\n",
    "    token_num_s = tokenizer.encode(token+add)[1]\n",
    "    vectors = []\n",
    "    texts_index = []\n",
    "    for i in range(len(texts)):\n",
    "        x = tokenizer.encode(texts[i])\n",
    "        if token_num in x:\n",
    "            token_index = x.index(token_num)\n",
    "            inputs = torch.tensor(x).unsqueeze(0)\n",
    "            outputs = model(inputs)\n",
    "            last_hidden_states = outputs[0]\n",
    "            token_vector = last_hidden_states[0,token_index,:]\n",
    "            vectors.append(token_vector.detach().numpy())\n",
    "            texts_index.append(i)\n",
    "        elif token_num_s in x:\n",
    "            token_index = x.index(token_num_s)\n",
    "            inputs = torch.tensor(x).unsqueeze(0)\n",
    "            outputs = model(inputs)\n",
    "            last_hidden_states = outputs[0]\n",
    "            token_vector = last_hidden_states[0,token_index,:]\n",
    "            vectors.append(token_vector.detach().numpy())\n",
    "            texts_index.append(i)\n",
    "    return np.array(vectors),texts_index"
   ]
  },
  {
   "cell_type": "markdown",
   "id": "7e180068",
   "metadata": {},
   "source": [
    "## Experiment\n",
    "### pretty"
   ]
  },
  {
   "cell_type": "code",
   "execution_count": 228,
   "id": "6222a136",
   "metadata": {},
   "outputs": [
    {
     "name": "stdout",
     "output_type": "stream",
     "text": [
      "200\n"
     ]
    }
   ],
   "source": [
    "texts_pre = extract_token(\"pretty\",200,100000)"
   ]
  },
  {
   "cell_type": "code",
   "execution_count": 225,
   "id": "e9ff24d6",
   "metadata": {},
   "outputs": [
    {
     "name": "stdout",
     "output_type": "stream",
     "text": [
      "(200, 768)\n"
     ]
    }
   ],
   "source": [
    "vectors,texts_index  = get_vector_rep(texts_pre,\"pretty\",\"\")\n",
    "print(vectors.shape)"
   ]
  },
  {
   "cell_type": "code",
   "execution_count": 210,
   "id": "ac1712a6",
   "metadata": {
    "scrolled": true
   },
   "outputs": [
    {
     "name": "stdout",
     "output_type": "stream",
     "text": [
      "2. he cant control that, so its pretty low., 02\n",
      "ACTUALLY!! he admitted himself he was g*y, umm no hes not smart, he ran into a glass door, hmm lets see what else, umm he started his own nail polish brand which comes out in a couple weeks, i think that pretty much says it all right their!!, 12\n",
      "Weird thing is that I'm pretty scared of needles., 22\n",
      "Only my ear was pierced, but has pretty much sealed now after I fell out of love with it., 32\n",
      "I had one of those once, but the ex just thought it felt strange so I got rid lol. To be fair it was pretty bulky whilst I was wearing it too...I'm sure women would get more of a kick out of them though!, 42\n",
      "I love getting piercings, and I'm pretty fond of them once they're in and healed, but..., 52\n",
      "The last couple of years I've done pretty terribly. I haven't correctly predicted a winner since Jennifer Egan's (I hadn't read The Orphan Master's Son when it won, but it has since become one of my favorite books, period). I was proud to correctly predict Bob Shacochis's nomination for The Woman Who Lost Her Soul, Nathan Englander's What We Talk About When We Talk About Anne Frank and Chang-Rae Lee's The Surrendered in recent years., 62\n",
      "Just finished Hulse's \"Black River\" and simply adored the book. So pretty, overall, and much like the Kent Haruf novels, such as \"Plainsong\" that I've enjoyed over the years. \"Black River\" is surely one of the best five I've read this year. Solid Pulitzer choice, in my opinion. Side note: As I've mentioned before, I surely don't understand all of the hoopla surrounding \"The Sellout,\" with so many other worthy contenders. But, what do I know? I'm only a reader. :-) Read on ..., 71\n",
      "@MH631 Wow. I'm completely gobsmacked and envious! So cool. I would love to see some of those. The Reivers signed to his mistress and her daughter the day before he died has got to be pretty close to the ultimate version of that one! This confirms that we have to figure out some opportunity for collectors to get together somewhere or sometime and compare notes, swap extras, etc.! Thanks for posting this!, 82\n",
      "While I get you may not want to spend 500pp on a book, the buzz around this has been pretty off the charts so I wouldn't be so quick to dismiss., 92\n",
      "Otherwise, this list is pretty much expected. No real surprises this year. :), 102\n",
      "@AlexKerner Some interesting novels on here, including some I haven't yet read or heard much about. I somehow doubt we'll see many surprises this year (although I do feel like the pulitzers have been really strange the past few years...with the missing award, the three finalists / fourth winner, and the goldfinch--a decent but problematic novel--chosen against a particularly strong year of novels), but I bet most of these novels are pretty solid., 112\n",
      "An interesting list of the 12 \"greatest novels of the 21st Century\" (so, since 2000) compiled by BBC Culture contributor Jane Ciabattari. The methodology probably accounts for the domination of US authors (polled several dozen book critics, most of whom looked to be from US outlets--not sure why more British critics weren't included. But, among the 12 listed, six won the Pulitzer and one was a Pulitzer finalist. Another Pulitzer winner was a runner-up. We sometimes talk about whether the Pulitzer recognizes the very best novels, but according to these critics, it seems to do a pretty good job!, 122\n",
      "Essentially, winning the Pulitzer more than once is very rare, so once you've won it, having done so counts against you for future wins, and, apparently, not many people who are one-time finalists actually go on to win for another book. Even though McDermott, DeLillo, and Oates are multiple-finalists, that is a pretty insignificant variable in the long run, mainly because so few people have been finalists more than once since 1982 (when my database begins)., 132\n",
      "12. Morrison has a slew of past awards and nominations, so pretty much anything she publishes will put her on the list until more awards come out for current year books., 142\n",
      "Anyone else looking forward to next year's releasees? I'm particularly excited about Jansma and Prentiss. Bock and Delillo could be good, although I never know what type of book the latter will release. Haslett sounds like he has written something beautiful (along the lines of the short stories in his debut collection), so I will be keeping my eye on that one. (I may have to be pretty selective about my reading in 2016 / 17. New baby on the way! I imagine that will take away some of my reading time, hahaha), 152\n",
      "As you can see, it missed some pretty big books! Now, here are the books that won the Pulitzer (from 1982 onward) that were not on the NBCC finalist list:, 162\n",
      "Adam Johnson has had a pretty good couple of years. I'll have to see if I can figure out when the last time an author's back-to-back books won NBA or Pulitzer. But, I heard Adam Johnson read Nirvana from Fortune Smiles, and it was very good (and he was a very nice guy.), 172\n",
      "@BRAKiasaurus @Marybethking I'm on 'Fates and Furies' right now. It's pretty good, but not knocking it out of the park for me yet. 'The Incarnations' was incredible., 182\n",
      "I just finished Infinite Home and loved it. It's scope is pretty small, but the writing is spectacular. I'd love for it to get some attention., 192\n",
      "Franzen's novel seems to be getting pretty mixed reviews, and (again, a way in which our tastes diverged, I did not care for his last novel)., 202\n",
      "@EdParks @BRAKiasaurus Yeah, like I said, the film was really awesome! And it's pretty cool that he got the book reissued on the power of the film alone--additionally, the book seems to have been well-reviewed at the time, simply a victim of circumstance., 212\n",
      "2. Spend as much quality time as possible with the Cub before we deliver him to college. I did pretty well at this one. The Cub worked a full time job, played baseball, and kept up an active social life, but I still made every effort to spend time with him., 222\n",
      "- Man, I hope they send Raven home tomorrow, there won't be anything pretty in the house if Matt is evicted., 231\n",
      "Enter an integer. Words shorter than this many characters are not indexed. The default value 3 is pretty good for English, for other languages other values may make sense., 242\n",
      "This study does constitute pretty good evidence in favor of a population expansion instead of cultural transmission, but it hasn't settled the matter. Dienekes talks about an 8-fold reduction in U frequency, but there's a similar problem with the farmer mtdna. Their main haplogroup, N1a, has suffered a 25-fold reduction. And today the rate of H in Europe is 50%, while the study found it at only 16% in the farmers, so that's another big change, a 3-fold increase., 252\n",
      "What may be important is that even during the LBK \"Blitz,\" things would have appeared somewhat slow on a generational time frame. The hunter-gatherers saw a couple more settlements in their region during their lifetime, of people who seemed to compete little for the wild life, but brought with them the opportunity to barter (say, grains, ceramic vessels, string/rope, clothing, hand-crafted vanity items vs. stones, axes, furs, collected berries and nuts, other, different hand-crafted vanity items on the other side, and also brought with them exotic, pretty women., 261\n",
      "Engine . . . I think that's a pretty exotic engine, can't be cheap to rebuild., 272\n",
      "e28s in general and M5s in particular have seen a pretty dramatic upswing in value over the last couple of years., 282\n",
      "13. Do your clothes fit well? Do you feel and look comfortable in them? Well, they aren’t tailored to me but I’m fairly common build. Most of them work pretty well, save for the older jeans that I bought when I weighed 185., 292\n",
      "15. What are your hopes or aspirations? I could care less. I don’t need much and I’d like to see us develop the ability to store human minds in computers to revive later during my lifetime. Other than that I’ll pretty much take what I get., 302\n",
      "1. Describe your relationship with your parents. Good, though there’s isn’t great with each other. I pretty much stay out of the way and help at work. We don’t talk that much because there isn’t much to be said., 312\n"
     ]
    },
    {
     "name": "stdout",
     "output_type": "stream",
     "text": [
      "I consider myself simply pretty. I can't say anything more. Average look., 321\n",
      "1. Do you know your astrological (zodiac sign? How well do you fit the type?: I'm a Virgo! I git it pretty well., 332\n",
      "7. Are you eloquent or inarticulate? Under what circumstances might this change? I am pretty articulate, but the only circumstance it would change if I had to keep spelling out a word in my head..., 342\n",
      "5. What are your areas of expertise? What, if anything, are you interested in learning more about? I can cook fairly well, I can also edit a film pretty easily... I would love to learn to cook other dishes, and actually make better movies., 352\n",
      "14. What do you fear? This may sound pretty crazy, but I am afraid of not being committed to something/someone, I have a raging fear of giant slides you find at carnivals (Fractured my leg on one when I was almost 12, never been on one since then.) and I am batshit scared by The Scarecrow in the Batman series..., 362\n",
      "1. What is your financial situation? Are you rich, poor, comfortable, in debt? I'm pretty comfortable, the only things I need to pay off are a few games... I get around $400 a fortnight, and I can live on that as long as I am still living with my mum for a while., 372\n",
      "7. Do you make friends easily, or do you have trouble getting along with people? I make friends pretty easily after I get over the shyness, 382\n",
      "I have trouble pronouncing some words sometimes, but otherwise, I can speak pretty eloquent or the like most of the time., 392\n",
      "6. Are you a good impromptu speaker, or do you have to think about your words? Same as back then, I plan ahead as I'm talking. I still speak pretty clearly most of the time, but I still get flustered in a rush., 402\n",
      "Wouldnt really work in our house, but pretty fun and funky... (sorry I dont know how much these went for :-(, 412\n",
      "I thought these would be pretty and bright in an entry way... .. ... of that mansion we are someday going to own., 421\n",
      "Going back to stuff that was a little more practical, I thought these travertine tile mosaics were really pretty., 431\n",
      "My fear is that they would be too heavy... they are pretty though., 441\n",
      "Mushi-shi: I saw this as an ad on AnimeNewsNetwork, and the ad actually worked in the fact that it got my attention. After looking at the reviews on ANN I decided to uh… obtain it. I’ve watched the first two episodes, and they’re pretty low-key, which is a nice change to the first two anime’s I mentioned here, where someone usually gets cut in half in every episode., 452\n",
      "You can easily integrate any SDK for a relatively cheap price, but as you become more specific to your needs, it can get pretty expensive., 462\n",
      "Tonight we asked the question, “What kinds of things do babies do?” I’m sure the list included some pretty “earthy” things. For every stage of Jesus’ life we could make a similar list. He got tired, hurt, sick, and sad. What is your gut reaction to this list? In what ways does it fit or not fit with your ideas about who Jesus is?, 472\n",
      "Description : Presley Maddox is a very pretty nineteen years old girl with an amazing butt! She's only been in the business for two days and has never been with five guys before. \"What makes you want to be with fiv..., 481\n",
      "I as well as my pals have already been looking at the nice guidelines located on your web site and quickly got a horrible suspicion I never expressed respect to the web site owner for them. All the young men came absolutely joyful to read through them and now have pretty much been enjoying those things. Appreciation for indeed being considerably kind as well as for settling on these kinds of magnificent subject areas most people are really desirous to know about. My personal honest apologies for not expressing gratitude to sooner., 492\n",
      "I want to point out my admiration for your generosity giving support to individuals that really need help on that subject matter. Your real dedication to getting the message throughout has been pretty productive and have all the time enabled guys much like me to attain their endeavors. The interesting tutorial implies so much to me and substantially more to my colleagues. Thanks a lot; from all of us., 502\n",
      "I together with my friends happened to be following the best advice from your web page while instantly got an awful feeling I had not expressed respect to the web site owner for those secrets. My boys are actually as a result very interested to study all of them and have now pretty much been having fun with these things. Appreciation for being indeed kind and for settling on this sort of cool themes most people are really eager to be informed on. My very own sincere apologies for not expressing gratitude to sooner., 512\n",
      "im 20, about 5'3 pretty petite, i don't know if it's just my small-ish frame or what?!, 522\n",
      "but it's pretty important to remember this as their stupidity will end in their downfall., 532\n",
      "Whoa! This blog looks just like my old one! It's on a totally different topic but it has pretty much the same layout and design., 542\n",
      "2) Via our thousands of effective online marketing campaigns generating new customers and the consistent smart marketing we do with our existing customer base, we create opportunities for the Holidaysplease Homeworkers to make sales pretty much every day, week and month of the year., 552\n",
      "Too many people in travel get switched on and busy for peaks or lates, then pretty much go quiet for the rest of the year believing that it is only in peaks or lates that customers want to buy. Wrong attitude!, 562\n",
      "LADY C.: I promised to make him pretty for your platform, not to alter, 571\n",
      "“Strikeouts have gone up pretty much every year historically for a variety of reasons that I spelled out in my piece. It has nothing to do with carelessness of hitters.”, 582\n",
      "I’m pretty clearly saying they don’t, as a measuring tool for pitchers. Exhibit 1 would be one of the top 5 or so pitchers in the league going 6-9 despite pitching excellently., 592\n",
      "I don’t know the answers to those questions, but I’m pretty sure 2009 doesn’t happen without both those guys., 602\n",
      "I can't find a weak hard rock/metal tune in here, they all feature pretty good riffs, some of them with that ol' gloomy aspect that characterized the 70's Sabbath so much, also there's that heavy drumming I mentioned before, from ex-Kiss drummer, Eric Singer, as well as some pretty good guitar solos, though by no means as memorable as those from the 70's Tony did., 612\n",
      "Congratulations on getting an interview! You’re probably feeling pretty excited but also a little nervous – don't worry, we're here to help you. Check out our tips below to help you prepare:, 622\n",
      "I was intrigued and had to check it out. It just seemed like my kind of store and surprisingly, it was. The store is filled with novelty toys and other gadgets and gizmos that make you laugh or say \"wow, that's pretty cool\"., 632\n",
      "Lunch was so good that we hit Longhorn Steakhouse for dinner. I am pretty sure I gained 10 pounds in 2 days. But before we knew it, we were on a flight back home to LV and the 100 degree weather. I think it's much better than the Houston humidity and non-stop traffic. Not to mention toll roads. What the heck is a toll road? :), 642\n",
      "Apple typically uses the same form factor for 2 years for cost savings. This allows it to reap incredible economies of scale compared to throwing out their design and R&D work and manufacturing setup after just 1 year. This strategy has worked pretty well so far and I don't see Apple abandoning it anytime soon., 652\n",
      "they were pretty, of course, and she felt no shame. True modesty does, 661\n",
      "conquered--for a pretty maid is always a power, and most of all to the, 671\n",
      "who is that pretty girl at your side? Surely she is not upon the, 681\n",
      "\"It is a pity, is it not,\" cried Mikel Grallon, \"to see a pretty girl, 691\n",
      "the other so fresh and pretty--sitting on one form side by side, not, 701\n",
      "Other things I'm grateful for: that we didn't actually open the bags and see the cadavers today during my lab, my water filter is working, I have new pens (including pretty green ones), the Anatomy book at the library was available when I needed it, I found some new shortcuts through buildings on campus, I got to spend time with my roommates, my spaghetti was yummy, I wore my cute hat all morning (thanks Jeff!), and I got to draw a picture that means a lot to me during one of my MT classes., 711\n",
      "Finn, who has been in litigation for 25 years, expects business to remain pretty steady., 722\n",
      "After watching the first two gruesome, but artistically pretty movies, Kondo and Iwakami held a short panel. Similar to other panels that I had previously attended at anime conventions, the questions were pre-scripted. Towards the end, Kondo became upset, expressing that those in the audience must have already seen the movies, for free, online. I, apparently, was not the only one in the audience who did not like the accusatory tone, and someone in front of me held up his imported Japanese release DVDs as an indicator as to how he knew about the series. Iwakami, though, seemed more reserved and said nothing about the matter., 731\n",
      "I get a lot of weird phone calls at work to the point that I have serious questions concerning the average American IQ. It seems that, when it comes to immigration issues, people just throw out all logic and operate on a system of idiocy. Whether its complaints from Americans as to why they need a US passport to travel to other countries(I imagine that it's pretty obvious that you're an American when you go around in a Hawaiian shirt and an obnoxious attitude) to whiny girlfriends sobbing about their child porn-loving boyfriend being deported, I've pretty much heard them all., 742\n",
      "I'm taking a course from the Society of Critical Care Medicine. I did not take an elective in the ICU during medical school, so my first TRUE experience will be on the PICU in July. This course was actually pretty helpful in reviewing the basics of ICU. Some tips I learned:, 752\n",
      "My buddy and I killed these 2 tonight. 6.8 did a number on them and pretty sure the boar is my biggest pig yet, 762\n",
      "You mean using these and a full choke is a little much for shooting ducks on a tank that I can pretty much cast a lure across???, 772\n",
      "And actually, what model do you really have? It should tell you on the front unless it's the 128k/512k, because I'm pretty sure the original Macs only had 400k disk drives, the Plus was the first to use 800k and it's worth less., 782\n",
      "My dentist actually has to give me laughing gas to calm me down for a normal check up. I think this abnormal fear stems from a cavity I was getting filled once. They didn’t give me nearly enough novacaine (is that how it’s spelled?). Anyway, it obviously wasn’t a pretty visit. So I can totally relate., 791\n",
      "I have knit and played Sims at the same time. You can get a few stitches in while they’re on the toilet. Meanwhile, that Eye Toy allows decorating your Sim’s house w/ pictures of you! I haven’t tried it yet, but it sounds pretty funny., 802\n",
      "All in all it was a pretty good tournament, Canada can breath a collective sigh of relief now that the gold is in their pocket and USA Hockey looks pretty good considering they went with a younger squad. Maybe one of these days they will broadcast the Championships next time here, but don't hold your breath., 812\n",
      "This looks familiar, Anaheim and Buffalo both in the Conference Finals for a second year in a row. The two now have the possibility to play in the \"what could have been\" series from a season ago. But of course the two face some pretty mighty opponents before that ship has sailed., 822\n",
      "The Sabres have sort of plodded along this post season. At the beginning of the year they seemed unstoppable. They were run and gun. They enjoyed a speedy game and loved the open ice. The Senators on the other hand were picked apart by free agency over the summer. The looked less like a team that could go to the playoffs, let alone the Eastern Conference Finals. These two have attacked the post season in some pretty different ways. But the result has been the same., 832\n",
      "OMG Len, you make me want to hop on a plane to Netherlands. Keukenhof is my dream, although I have never seen photos of it as pretty as yours are! FANTASTIC!, 841\n",
      "Seda Capitol Central is a nice and modern hotel. It may not be opulent, but it is simple, elegant, and very comfortable. But one thing that really makes them notable is their staff. They have very warm and accommodating personnel, from the front office, to the concierge, waiters, pool attendants, and pretty much every one we have encountered. This includes their housekeeping. They are very helpful, too., 852\n",
      "We have attended several functions at Seda Hotel Bacolod and the food has been pretty good. However, I cannot comment about their ala carte meals at the restaurant as we have not dined there in this set up., 862\n",
      "This pretty much set the scene for the day - red flag after red flag. I got quite a good start in the Superbike, 872\n",
      "“The mood is we played pretty well but we didn’t finish,” said Eberle after the Alabama loss. “We did too much to not finish. We’ve got a long season ahead and now we have to do our jobs.”, 882\n",
      "It's safe to assume that yes these films are merely used for washing money from drug/human trafficking - when they bomb you can just chalk it up to people not being progressive enough or racist or blah blah blah and keep making them. It's pretty brilliant tbqh, 892\n",
      "The worst thing is, they seem to be taking their cues from social media, which is a big mistake. Social media might be vocal, but it's actually pretty small amount of people who actually use it., 902\n",
      "Tiffany is hot. And she had pretty nice feet for a black woman., 911\n",
      "Jews have spent decades analyzing and perfecting international money laundering and tax evasion. I'm pretty sure that they can earn $11 for every $10 they spend just using accountancy tricks, as long as they don't do anything too visible., 922\n",
      "Starting about three years ago, we began the process of phasing me out of the project. It was difficult and time-consuming but now the transition is pretty well complete. Today, we have a much larger group of contributors and team members than ever before. I’m still involved but my level of participation is much reduced., 932\n",
      "Next is \"Role Play to Confirm Incident.\" Chief asks who wants to run process; I'm taking notes and decline. The client from the previous rocks process takes up the role. I'm impressed that he is able to take this on when he must still be feeling pretty raw. I try to help out process, but feel more like I get in the way then actually help., 942\n",
      "A career which provides social value. I worked for two years it a start-up and found the constant clamoring for dollars and requests to solve pretty meaningless problems draining., 952\n",
      "That is pretty much it at this point. Feedback welcome., 962\n",
      "Yeah, Dentisrty has been looking pretty good to me too..., 972\n",
      "Be homeless in a nice (warm) city, wander around to medical conferences and eat free food. You could pull it off pretty easily, with at least one decent set of clothes, the right demeanor, and access to a shower., 982\n",
      "The business world is a pretty broad place. It really depends. I'm like you -- sensitive, etc. But maybe surprisingly I found quite a lot sensitivity, compassion, and empathy in the IT/tech industry, just as one example. Especially among fellow geeks. I'm sure there are other examples in other industries (e.g. working for a charity like the Bill & Melinda Gates Foundation)., 992\n",
      "Also, while emergency physicians are generally compassionate people, I think you could also say they're pretty thick skinned people. You pretty much have to be in order to deal with all the crazy that comes through the ED. If you're too sensitive and empathetic, it might actually be a problem which could impede appropriate patient care., 1002\n"
     ]
    },
    {
     "name": "stdout",
     "output_type": "stream",
     "text": [
      "I saw these a couple of weeks ago and was devastated that I couldn’t eat them, they sounded so good! Looks like I didn’t miss out on much. I picked up some pigs in blankets tortilla crisps from the co-op this week and they had the same overpowering flavour, weren’t greasy though so they were pretty good in a small portion x, 1012\n",
      "I love you too, Gabby and I am going to send you an email back pretty soon! I think I should write more first-person things. I think this is a good idea., 1022\n",
      "At the end of World War II, everything in Europe was pretty decimated; England, Germany, Italy, France, you, 1032\n",
      "Maybe, maybe not. What I am pretty sure about, though,, 1042\n",
      "It pretty simple to do, but not knowing which make/model washer you have,, 1052\n",
      "like human body parts. So they’ve got the «gore» part pretty well covered, but for a re, 1062\n",
      "ABs. Agreed, they made things pretty hard for themselves in the semi final with, 1072\n",
      "was getting pretty obvious that my belly was growing, and it wasn just fat., 1082\n",
      "«It became pretty overwhelming, the crowd was so loud and the place was just buzzing,» said Grassi., 1092\n",
      "you’re aware he’s pretty fat. But I’ll tell you, of, 1102\n",
      "suffered a pretty nasty double fracture of his left leg,, 1112\n",
      "Have a locker right next to him, that was pretty special, Peterson said., 1122\n",
      "One thing I’ve found out from pretty much every discussion I’ve had with, 1132\n",
      "already pretty much made up their minds about drugs; either they have, 1142\n",
      "cheap nfl jerseys Don’t get me wrong meeting people from all across the world with the same interest is pretty cool. But it doesn’t get you the die hard Thai boxing camp experience. So it really depends on what you are looking for. Yes, O’Malley ushered in same sex marriage in Maryland in 2012. But that was his sixth year as governor, and he had frustrated advocates by letting that issue founder in the General Assembly only a year before. Maryland became the eighth state to recognize same sex marriage at the time the bill was signed.. cheap nfl jerseys, 1152\n",
      "who was around $2000 down on blackjack. He was nice. He was tipping pretty well., 1162\n",
      "We love the small size and flexibility of this trip, that just makes your Fiordland experience that much more special. We think the local guide commentary is pretty cool too, not to mention all the incredible scenery you'll see throughout your trip!, 1172\n",
      "they look disgusting! i will probably have to make some for my vegan nephew when he visits this summer as i am always looking for things to make him. but you are right, there is no way to pretty these puppies up they will always look like poo! nice try though karen with the pretty dish!, 1181\n",
      "This look great – raw food recipes can be amazing and very flavourful. But your gym guy is not only an asshole, he doesn’t seem to know much about nutrition, such as the most basic concepts, such as what carbohydrates are. In what universe does something packed with dried fruit have no carbs? (Plus if you really ate no carbs, which I don’t know how you would do because I can’t think of anything edible that really has NO carbs in it except maybe water, I think you’d die pretty fast.), 1192\n",
      "Such pretty cards! Thanks so much for the chance to win. I am following your blog through Feedly and am following you on Instagram! :), 1201\n",
      "those cards are so pretty love them all!, 1211\n",
      "Your projects are so pretty. Love them. The second prize is my fav., 1221\n",
      "An extra click on the map icon will now allow the user to pivot from the “individual entity” mode to an aggregate heatmap. This is great to overcome the effect of projecting “pins” on a map. For example, looking at the following map one might think this startup group is pretty much evenly distributed across Europe., 1232\n",
      "That's a pretty aggressive price for a Victrola XI, just my honest opinion., 1242\n",
      "These are going for about $100 - $150 at auction in the DC area. No idea what they bring retail. The needle tin and reproducer box add some to that price and maybe the records, but those are like stamps (some have high value and others do not), but it doesn't hurt to ask. It's a pretty machine, but a common one., 1251\n",
      "That's all pretty awesome and very honorable - and way more than what most other operators in the Shark Diving Industry have done., 1262\n",
      "Compare that to the measly 250 bucks for landing the biggest of many dead Sharks in Destin, and it should be pretty obvious what they guys over there ought to do., 1272\n",
      "Bless the author for having been eloquent, extremely well documented, convincing and polite. This is pretty much the case in point for what we said a while ago - just much much more intelligent and better presented!, 1282\n",
      "Seems to me like a pretty clear example of projective identification on your part Mike. As to you seeming to be fair, I think you should take a good hard luck at how you treat people on your own forum who did not agree with your position. ;), 1292\n",
      "Another hairstyle that looks pretty impressive with your dark black weave is this short length wavy bob. This is the perfect weave hairstyle for medium hair. Simply blow-dry all of your hair in place or use heat to style it. Easy to maintain and even easier to achieve, this hairdo will stay in place all day wherever you go., 1302\n",
      "This weave hairstyle is for those who love the feel of volume and texture to their hair. Absolutely pretty, the corkscrew curls work perfectly and gives you this graceful and elegant look., 1310\n",
      "they last for a pretty long time if you take care of them properly. And they're good for nights out or even to wear everyday!, 1322\n",
      "I've seen this book in Korean before but I couldn't understand nothing at all and became pretty frustrated XD So it's really nice of you to translate these into English! Thank you very much! *v*, 1332\n",
      "(and thus into the same process). This made working on different projects simultaneously pretty difficult., 1342\n",
      "It works pretty nicely on linux, but fails miserably on windows, because we want to instantiate the Java VM from the DllMain (if you are interested by the subject, take a look here)., 1352\n",
      "We have not yet resolved this question, and so will not distribute this plug-in just yet, be we can tell you it works pretty well, and includes some QScintilla auto-completion :), 1362\n",
      "Today, this project has been re-animated, and it looks pretty promising., 1372\n",
      "This part is pretty straight-forward., 1382\n",
      "Today (which is not the day that this post is published) is a pretty good day to write a blog about Christmas. The weather is nice and cool. It feels a little bit more like Christmas and sets your mood right in., 1392\n",
      "He has a point about the borders. Between the column on the left and the new column on the right, the main body of the page only has about two thirds of the screen to work with. My resolution isn't great (1024x768), but this is pretty bad. --echan, 1402\n",
      "Regarding tone, I don't mind having a casual tone here in the wiki, as long as the information is clear and it's reasonably grammatical. The game itself has a pretty casual tone, after all, and we're not trying to compete with real encyclopedias the way Wikipedia is. -- Old Ned 06:16, 3 June 2006 (CDT), 1412\n",
      "We need a final decision on this, preferably before Max's ban expires, which should be pretty soon now. It sounds to me like the consensus is to remove all names from items, except those few items that were never available except through hacking. Does that sound acceptable to the majority? -- Old Ned 22:54, 1 July 2006 (CDT), 1420\n",
      "Take a look at Items_by_number. It may not be the best description yet (it's still pretty new), but it is a description. Teffania 08:07, 2 August 2006 (CDT), 1430\n",
      "Having hands is pretty damn great, you know. Most of us take it for granted just about every day. Armed with the right tool, your hands can do just about anything. That’s the idea behind Carbon, 1442\n",
      "Some public-opinion polls taken during this period are not very revealing. Much depended on who was conducting them, on how questions were phrased, on which groups in the community were reached. But Congress was a pretty reliable barometer of the mood of the nation. The one-vote majority by which selective service was renewed was one signal of the aversion to the idea of a second crusade. Another unmistakable signal was given only three weeks before Pearl Harbor., 1452\n",
      "But Stalin and Molotov made unusual attempts to conciliate and placate Hull in Moscow. By the time the conference was over, the venerable Tennessean had reached the conclusion that the Soviet leaders were pretty good fellows, after all. Any intention he may have cherished before going to Moscow of pressing for a showdown on the Polish question on the basis of the Atlantic Charter had evaporated., 1462\n",
      "How does it stand with those ideals which were often invoked by advocates of the Second Crusade? What about “orderly processes in international relations,” to borrow a phrase from Cordell Hull, or international peace and security in general? Does the present size of our armaments appropriation suggest confidence in an era of peace and good will? Is it not pretty much the kind of appropriation we would Edition: current; Page: [[356]] have found necessary if there had been no effort to destroy Nazi and Japanese power?, 1472\n",
      "“You have such pretty hair, like a gold waterfall. I love your eyes too,” he said.“They’re like the blue sea.” He was talking like men in soap operas but nothing could make him ordinary for her., 1481\n",
      "Is this recipe fail proof? Yes and no... I would say that this recipe is pretty easy to bake but can fail easily if these essential steps are not followed properly:, 1492\n",
      "I'm pretty sure I've had this cake before but I definitely have never tried making anything like it. The delicate layers, oh you must plan and really be patient with removing those layers! I would need guidance on something like this if I ever were to attempt. I'm always glad to hear people discussing how something can be made better and things they would adjust to improve the results!, 1502\n",
      "Again, people who work at stores should be pretty well informed about what’s coming out, but no one can know everything that’s going to be for sale., 1512\n",
      "This is pretty much how every day starts for the president of the, 1522\n",
      "A similar map counting the number of applications going to each city is available here (this also takes forever to load). However the two maps look pretty much the same, since the resolution of the bubbles are not that great., 1532\n",
      "Time to play the comparison game. Here's the low-down: the previous two games in the Gagharv trilogy were first developed in the mid-90s, re-made for PC around the year 2000, and then ported to PSP. Song of the Ocean, however, was first created in 2000, so it has a bit of a graphical edge. Rather than having to be revamped, it was pretty decent from the start., 1542\n",
      "Since GameForge decided to surprise us all with an unexpectedly early release of 6.2 (2 weeks earlier than I had planned for unfortunately), you may find that the patch on Not Aion is a bit rough on the edges. New skill mechanics associated with the Daevanion skills such as shortening skill cooldowns, triggering on special conditions, etc. are pretty much all not working at this stage. I will be focusing on implementing those new skill features as soon as possible. So, please bear with us if there's a few more bugs than the usual high quality you're used to on Not Aion., 1552\n",
      "\"I think any time you enter into conference play, you recognize a challenge and we'll do everything we can to get everybody ready,\" McCaffery said. \"I think we're in a pretty good place.\", 1562\n",
      "Me too, it was fun to have dragon shifters in this book. And the cover is really pretty indeed!, 1571\n",
      "Having viewed your extensive profile online, I had the opportunity to rewrite this letter before I sent it, as I was unsure prior to viewing if you were coerced into supporting criminal activity through naivety. Whereas I am pretty confident now, given your vast experience, that you know precisely what you are doing. I’m still not sure if you joined the Fitness to Practice Department at The Health and Care Professions Council, knowing that you would be acting in support of criminal activities, or if being in your current predicament, is not somewhere you planned on being. Either way, it doesn’t look terribly good. Simply saying ‘its OK’ doesn’t mean it is, no matter who may advise you otherwise…, 1582\n",
      "Cultivate optimism. Researchers in the 1970s discovered that among people who had won the lottery -- an event that most of us probably think of as incredibly positive -- were no happier after a year than people who hadn’t. This is because of hedonic adaptation: humans have a “baseline” of happiness to which we return after external events (good or bad).[34] However, even if your natural baseline is pretty low, you can actively cultivate optimism. Optimism improves your self-esteem, overall sense of well-being, and relationships with others.[35][36], 1592\n",
      "Your shoes are beautiful too….comfortable and pretty., 1601\n",
      "The Doctor is pretty convinced that her problem is actually psychological so he starts by dilating her rear hole manually first to end up stretching it out all the way using his huge cock as a medical tool.  https://reklamamms.ru/1232570, 1612\n",
      "I’m actually still in the midst of (slowly, sorry) migrating the VUMeter code over to a version that uses Python for its front-end. With Python in the mix, it’s much easier for anyone to modify the behaviour of the VUMeter and test it pretty much immediately., 1622\n",
      "Your filter space sounds pretty large to me, what do you want to keep in the pond?, 1632\n",
      "Said it before, say it again: living in the future is a mixed bag, but generally, by and large, pretty cool., 1642\n",
      "I’m playing catchup here, but it certainly bears repeating, if you haven’t already heard. Now don’t get too excited, the back issues only go back to January of last year. Still, it’s pretty sweet that you can now subscribe to this venerable science fiction trade publication or buy individual editions in pdf, epub, or mobi format without any annoying digital rights management dictating how you use the content that you paid for., 1652\n",
      "MCA: Oh, it actually wasn't too hard, actually most of it just involved rewriting quest text and some of the interface prompts, and that was pretty much about it. But I think they just thought it was too weird., 1662\n",
      "He also loved dinosaurs and fossils so we've taken him fossicking a few times and we've been lucky enough to find some pretty interesting specimens too., 1672\n",
      "And as much as I wish I had not been right about much of what I predicted, I have to give myself a pretty good grade for that list., 1682\n",
      "On the other hand, some of last year's predictions look pretty far off the mark as we look back at 2008., 1692\n",
      "I’m pretty proud of the Fourth Estate these days. The media is taking its responsibility seriously. The newspaper war between the New York Times and the Los Angeles Times for scoops about the Trump administration is absolutely thrilling. It’s amazing how many reporters each paper has put on the beat, and it is paying off with great stories and increased circulation, which translates directly to advertising revenues., 1702\n",
      "The bleak history of Appalachia is pretty well understood, but the migration story was new to me. Put together, they explain how Trump voters came to be and how they came to be where they could nudge the election to Trump, though Vance opines that “Hillbilly” describes much of America’s white middle class today., 1712\n",
      "It turns out that Parkinson’s doesn’t kill that many people, though it did kill my father. Most people who get it do so later in life and usually die of something else before Parkinson’s gets them. But the diagnosis, Kinsley writes, “…is a pretty valuable warning shot from the Grim Reaper.”, 1722\n"
     ]
    },
    {
     "name": "stdout",
     "output_type": "stream",
     "text": [
      "I have been making some progress on Autumn Rose, despite feeling kind of blah and having much to do. I'm almost to the bind off and casting on for the neck steek, which means I'm also pretty close to attaching the sleeves and entering the home stretch., 1732\n",
      "I am debt free. Started doing some form of grunt work at a TV station, but pretty quickly moved up to Associate Producer in the third largest US market., 1742\n",
      "You picked the hardest profession in the world to be successful in, but if you want to go for it, start taking acting classes and move to a city where you can start auditioning for roles. Go on LOTS of auditions. Isn’t there a pretty healthy film industry in India?, 1752\n",
      "England has a pretty strong film community as far as I know. I would guess that it’s all in London. I would check to see if there is a Film Commission in London or in your local area and just volunteer! Don’t wait until you are here to start learning., 1762\n",
      "My first language is French , I speak pretty good English and some spanish., 1772\n",
      "And across the way, there's a forest trail and part of the Ridgeline. The trails are short, but pretty steep. And if you want to walk all of them, you can go for several miles., 1782\n",
      "He was pretty far off the trail, and I watched his butt for a while, walking back and forth on the path, trying to get a better view. He finally moved and laid down where I could almost see him!, 1792\n",
      "I am pretty serious about keeping my journal. In the past, this has manifested as Daily Stories, Morning Pages, Art Journals, and just Filling Up Note Pads., 1802\n",
      "I love open space. I do not want humans in my bubble. My bubble is pretty big. I'd rather not talk to you... but if you want to type or write, I'm all for it!, 1812\n",
      "The baby guinea pigs are now 2 weeks old. They are definitely the picture of cuteness! Still no names, yet, but I am pretty sure the Big One is female and the Little One is male. We've got a vet appt next week to be sure., 1822\n",
      "I have had a very happy relationship with computers since my Dad got a TRS-80 when I was a kid! I eventually minored in Computer Science at university. I got As and Bs, but the programming classes were more difficult... school stuff came pretty easily for me, so it was a surprise when I actually had to think., 1832\n",
      "So, yeah, I’m pretty far from hardcore. But, you know what, angry gamebros? This is my hobby as much as it is yours. I may not fit your gamer stereotype, but I play games too, and the money I spend on gaming is as green as yours., 1842\n",
      "Ravenx2, This has already been covered extensively here and elsewhere, but I feel like someone should tell you that (a) arguing by jpg* is pretty weaksauce, and (b) your jpg is full of inaccuracies and lies. For just one example, the reason Gaters are called misogynists is because they’re full of hatred and resentment towards women, which they freely express online, pretending that somehow gaming “belongs” to boys and girls had better learn to fit in if they want to be tolerated., 1852\n",
      "I've tested it out and it's actually not bad. Seems to work fine on Ubuntu. Hilariously, I was going through the tutorial and the tutorial guy was eaten by a zombie so that was pretty amusing. Not sure if it was supposed to happen…, 1862\n",
      "After that, it was pretty much a bunch of eating and gambling. I had dinner at Okana where the master chef was my own private sushi chef for the evening. OMG, it was fantastic! He made an exquisite nigiri of toro tuna with crushed pepper, then torched it to sear it and added some fresh lemon juice. It melted in my mouth -- simply amazing. There were other great delights there as well but that one was outstanding., 1872\n",
      "It ended up being pretty nice being there alone. I was able to relax, hang out by the pool, go shoot pictures, read, and gamble on my own schedule. I think next time I'll go with friends though -- much more fun at the tables with people you know., 1882\n",
      "The Hilton did have a fireworks display and I was able to watch it from my hotel room. It's pretty cool when you zoom in., 1892\n",
      "At the age of 13, it seems pretty straightforward. Avoid drinking, drugs and sex, and you’ll be fine. Ask forgiveness as soon as a curse word slips through your lips, and you’re back on His good side. Gossiping is bad, unless it’s your Sunday school teacher talking to your mom about one of the other kids’ parents (then it’s just story telling)., 1902\n",
      "So I’m three years late to this party, and I’m pretty sure this comment will go unread altogether, lol. But I just finished watching Numm and I have too many random thoughts that need to be expressed somehow., 1912\n",
      "Our threads are always open and you will pretty much always find someone willing to discuss the would’ve and should’ve of a particular drama – welcome aboard!, 1922\n",
      "Thanks so much! I went back and listened to Sania Saeed’s comments on Numm. She’s clearly as frustrated and disappointed about it as we are. I wonder what happened though. Budget ran out? Writer and director didn’t get along? Who knows. The weird thing is that this show had real craft in certain subplots. For example, Mj’s hairpin is a pretty good McGuffin, showing up symbolically as and when needed. It’s a neat trick, and the writer and director pulled that off pretty well. But much of the plot was a disaster, and actually knowing the whole thing may have derailed for reasons other than poor writing is weirdly satisfying., 1932\n",
      "Bird activity was actually pretty high along the 50-yard stretch of the Santa Cruz River while Alan and I walked back and forth hoping to get good views of the wren. I had birded this spot last April with my friend Anthony Collerton (but missed the wren then), and on the very same power poles then was probably this very same Common Raven who seemed to be uttering what I would refer to as a “song.” Here's my recording of it:, 1942\n",
      "I've been pretty much steering clear of this Amalekite controversy thus far, as I did not want to open up yet another front in the jousting between Ben and me on the historicity of the OT (I personally do not believe that YHWH ever ordered the Israelites to massacre anybody - ever)., 1952\n",
      "After the spread of Christianity, slaughter, enslavement, and atrocity (unfortunately) continued pretty much as before. It still does today. But with this one critical, all-important difference - to behave so was now for the first time in history morally and officially unacceptable., 1962\n",
      "So as a matter of fact, the overwhelming majority of what WLC professes is on pretty safe ground, but the problem remains that it will forever lack authority. I can't rely on him., 1972\n",
      "Yeah, that's your mistake right there, Bob. Your interpretation of that whole passage needs to be understood in similar way to how you interpreted the passage instructing the destruction of the Amalekites. That whole New Testament is pretty much allegory, as it turns out. :), 1982\n",
      "Bam - I still have the purple Lambo. Taking it on the Gumball Rally around the world in eight days really fucked it up. The Dirty Sanchez dudes from England did a donut in Thailand without my knowledge and ripped the clutch, leaving me no reverse, first, or second gear. Then Cleveland put diesel in my car and that was a pretty penny to drain that. Right now, it's in the driveway, alive and well., 1992\n",
      "[2, 2, 2, 2, 2, 2, 2, 1, 2, 2, 2, 2, 2, 2, 2, 2, 2, 2, 2, 2, 2, 2, 2, 1, 2, 2, 1, 2, 2, 2, 2, 2, 1, 2, 2, 2, 2, 2, 2, 2, 2, 2, 1, 1, 1, 2, 2, 2, 1, 2, 2, 2, 2, 2, 2, 2, 2, 1, 2, 2, 2, 2, 2, 2, 2, 2, 1, 1, 1, 1, 1, 1, 2, 1, 2, 2, 2, 2, 2, 1, 2, 2, 2, 2, 1, 2, 2, 2, 2, 2, 2, 1, 2, 2, 2, 2, 2, 2, 2, 2, 2, 2, 2, 2, 2, 2, 2, 2, 2, 2, 2, 2, 2, 2, 2, 2, 2, 2, 1, 2, 1, 1, 1, 2, 2, 1, 2, 2, 2, 2, 2, 0, 2, 2, 2, 2, 2, 2, 2, 2, 2, 2, 0, 0, 2, 2, 2, 2, 1, 2, 2, 2, 2, 2, 2, 2, 2, 1, 2, 2, 1, 2, 2, 2, 2, 2, 2, 2, 2, 2, 2, 2, 2, 2, 2, 2, 2, 2, 2, 2, 2, 2, 2, 2, 2, 2, 2, 2, 2, 2, 2, 2, 2, 2, 2, 2, 2, 2, 2, 2]\n"
     ]
    }
   ],
   "source": [
    "#manually labeled them into 3 categories(1:cute,beautiful,2:fairly,0:other,unknown)\n",
    "labels = []\n",
    "for i in texts_index:\n",
    "    print(texts_pre[i],i,end=\"\")\n",
    "    label = int(input())\n",
    "    if label == 99:\n",
    "        break\n",
    "    labels.append(label)\n",
    "print(labels)"
   ]
  },
  {
   "cell_type": "code",
   "execution_count": 230,
   "id": "e1b08b62",
   "metadata": {},
   "outputs": [
    {
     "name": "stdout",
     "output_type": "stream",
     "text": [
      "(159, 2)\n"
     ]
    },
    {
     "data": {
      "image/png": "[encoded data removed]",
      "text/plain": [
       "<Figure size 432x288 with 1 Axes>"
      ]
     },
     "metadata": {
      "needs_background": "light"
     },
     "output_type": "display_data"
    }
   ],
   "source": [
    "pretty_labels = np.array(labels)\n",
    "#dimentionality reduction by t-SNE\n",
    "t_sne_pre = TSNE(random_state=0).fit_transform(vectors)\n",
    "print(t_sne.shape)\n",
    "\n",
    "fig, ax = plt.subplots()\n",
    "#ax.scatter(t_sne[:,0], t_sne[:,1],c=labels)\n",
    "ax.scatter(t_sne_pre[pretty_labels==0,0], t_sne_pre[pretty_labels==0,1], c='black')\n",
    "ax.scatter(t_sne_pre[pretty_labels==1,0], t_sne_pre[pretty_labels==1,1], c='blue')\n",
    "ax.scatter(t_sne_pre[pretty_labels==2,0], t_sne_pre[pretty_labels==2,1], c='green')\n",
    "ax.legend((\"other,unknown\",\"beautiful,cute\",\"fairly\"),loc='lower right')\n",
    "plt.show()"
   ]
  },
  {
   "cell_type": "markdown",
   "id": "ee2271f7",
   "metadata": {},
   "source": [
    "### right"
   ]
  },
  {
   "cell_type": "code",
   "execution_count": 229,
   "id": "616069ad",
   "metadata": {},
   "outputs": [
    {
     "name": "stdout",
     "output_type": "stream",
     "text": [
      "194\n"
     ]
    }
   ],
   "source": [
    "token = \"right\"\n",
    "texts = extract_token(token,200,10000)"
   ]
  },
  {
   "cell_type": "code",
   "execution_count": 232,
   "id": "834c0f38",
   "metadata": {},
   "outputs": [
    {
     "name": "stdout",
     "output_type": "stream",
     "text": [
      "(159, 768)\n"
     ]
    }
   ],
   "source": [
    "vectors,texts_index  = get_vector_rep(texts,token,\"s\")\n",
    "print(vectors.shape)"
   ]
  },
  {
   "cell_type": "code",
   "execution_count": 145,
   "id": "28c84261",
   "metadata": {
    "scrolled": true
   },
   "outputs": [
    {
     "name": "stdout",
     "output_type": "stream",
     "text": [
      "If you ever want to prove him wrong,I'm right here Bendy,at the back of this very long queue :D, 01\n",
      "-He pretends to be an activist for g*y rights, when he hides his own bisexuality from the press. (He is in fact bisexual. Ask anyone who knew him from before he became famous.), 12\n",
      "h**l if I know if he is g*y or not, just a little bit odd. Mostly I just hate his music, a bunch of sing-about-love stuff again. I get enough of that from way to many places. But I, in general, hate alot of what play on a couple radio stations around me, so its not really targeted right at beiber., 20\n",
      "ACTUALLY!! he admitted himself he was g*y, umm no hes not smart, he ran into a glass door, hmm lets see what else, umm he started his own nail polish brand which comes out in a couple weeks, i think that pretty much says it all right their!!, 30\n",
      "As a company, we adapt to change – in fact, more often than not, we are the change. Where others see challenges, we see opportunities. We’re a high-tech company, but we succeed the old-fashioned way: through honesty, integrity, hard work, doing the right thing and always putting our clients first., 43\n",
      "The second one will be a short stories collection, probably one that flies under the radar right now (there's always some surprised in the Pulitzer finalists)., 51\n",
      "As for the Sotheby's auction, go up to the top of the page and check the mast on the left. There's a link for it... and you're right, the minimum was not met., 73\n",
      "@PulitzerPrizes @pulitzerprize also can i recommend that you don't post the winners on your website until AFTER the live streaming. Last year people were already shouting out the winners before the presenter had made the announcement because the winners had been posted on the site right away. For suspense purposes it would be great if that doesn't happen this year., 81\n",
      "I really don't understand all of the hoopla over THE SELLOUT. Just a so-so book, in my opinion. Minor work. I struggled through it, and can never get back the time spent on that tome. EILEEN and HONEYDEW are sooooooo much better, not to mention THE TURNER HOUSE, TSAR, DID YOU EVER, and others. I'm reading DELICIOUS FOODS right now, and think it's a major-serious contender as well. BLACK RIVER is next on my list, and I can't wait. But, what do I know? :-) Read on ..., 91\n",
      "I am not much for \"tooting my own horn\" buuuuuuut, you did hear it here first: http://fyre.it/PfcL8m. (July 12, 2015). If I'm right, I bet it's a once in a lifetime prediction, at least that far in advance., 103\n",
      "@BRAKiasaurus It's also a paperback original right? That would be an interesting winner!, 110\n",
      "@BRAKiasaurus I'm at about the same place in the book... devastating is the right descriptor., 123\n",
      "3. There are 75 books entered for consideration right now, drawn from discussions on this site, best of lists, and award announcements to date. There will be more added as they emerge in other award lists, I'm sure., 131\n",
      "I do not know who runs the site or their formula, but if you look at the past \"best of year\" lists, then the site's owner has done a terrific job of identifying stand out fiction from that calendar year. I expect that the list will fluctuate as award season progresses and best of lists are published, but at the current time Sympathizer is right up there with several other books which have been more widely discussed on this site., 140\n",
      "@BRAKiasaurus @Marybethking I'm on 'Fates and Furies' right now. It's pretty good, but not knocking it out of the park for me yet. 'The Incarnations' was incredible., 151\n",
      "As it has been with Biography (among other categories), it has also been with Fiction. Adam Johnson won a few years ago for The Orphan Master's Son, and rightly; it is a staggeringly good novel worthy of recognition., 161\n",
      "I have about 10 books going right now, one novel, one non-fiction, 6 or 7 short story collections, and a book or two of poetry, and I tend to read different things in different settings. The train: poetry or short stories, the gym: nonfiction (not sure why), and novels in the evenings and weekends., 201\n",
      "But I guess we'll see. You may well be right. I of course will never get to everything, but that indisputable fact does little to quell my voracious appetite. :), 213\n",
      "@EdParks @ey814 I love when they put this stuff out...although there are less exciting things coming out this fall than I would have expected. That said, these lists tend not to be entirely thorough. I'm finishing up \"The Sixth Extinction\" right now (and I can't recommend it highly enough)., 231\n",
      "The History of the Brain from PBS covers the same material (that's good right!?) but has a bit more description and pictures., 240\n",
      "Tomorrow is September 1st, already. How did that happen? Fall is right around the corner, and I know this because the Halloween decorations have already started to hit the shelves and retailers are coming out with pumpkin spice everything (I'm serious; yesterday I saw pumpkin spice almonds in the nut section of the Hellmouth. Bleh!)., 251\n",
      "Sounds about right to me... Where else do you get such emotional complexity besides a middle school or a telenovela?, 263\n",
      "We seek to respect human rights, protect privacy, and comply with laws and regulations., 272\n",
      "On the flip side, the MtDNA seems to support theories that claim early farmers were (at least partially) matriarchal, with farming women very protective of their farming knowledge, rights, standing, and their being the sole source of children., 282\n",
      "Yes my clothes fit well...right now..since I lost weight ,they are a little big, but they are comfortable., 321\n",
      "15. What are your hopes or aspirations? To one day become a great writer. Hope people understand the meanings in my writings. Be a good person and do what is right. Become stronger and be the determined person I am., 333\n",
      "I have a tattoo on the top of my right arm., 344\n",
      "Just because I don't mention things doesn't mean I don't want them found out. Give it time and the right questions., 350\n",
      "Tried both sides, haven't really liked either. Men and women are as bad as eachother. Therefore I choose to like neither right now., 361\n",
      "11. What are your chief tension centers? : My neck, small of my back, and right knee. I had an accident when I was 13 playing basket ball. Ended up shattering my right knee, fracturing my left on, knocking my neck outta wack, and breaking my tail bone. Yes, I broke my ass, so those spots generally hurt me., 374\n",
      "4. Are there other, unrelated people whom you consider part of your family? What are your relationships with them? : Yes, there are. I've got my two big brothers, James and Ben, and my little sisters, Alison and Charlotte. (Gods, I hope I spelled that right. >_< )), 393\n",
      "5. Who is/was your best friend? How did you meet? : I don't have a best friend right now, except my mom. And my previous best friend isn't worth mentioning., 401\n",
      "4. How do you regard beliefs that differ from your? Are you tolerant, intolerant, curious, indifferent? I accept that everyone has the right to their own beliefs, even if they differ from mine, 412\n",
      "13. Do you have children? Grandchildren? If yes, how do you relate to them? If no, do you want any? I want kids, but right now it's hard to say when we'll have any. It requires cash, stability, and time. At least one of the three is almost always in flux right now., 431\n",
      "Chris ran out to the garage and found some hanging hooks that would hold up to 50lbs a piece (better safe than sorry, right?), 440\n",
      "I'm still a little on the fence if it makes that corner look too cluttered, but right now I think we both are liking it., 461\n",
      "It came with 4 chairs, table, and leaf. It was in really good shape and I asked the host of the sale if they would take $100 (thinking they would counter at $125 which I was more than willing to pay so I could flip it for possibly $300 on Craigslist) but she agreed right out on $100! SCORE!!!, 470\n",
      "I did mention he drives a Saab, right?... as in a SEDAN..., 480\n"
     ]
    },
    {
     "name": "stdout",
     "output_type": "stream",
     "text": [
      "However, once we got inside, we were greeted by one of the planners (a lady we talk to every time we go. She even told us she hoped she would see us this auction and thought about us when they announced they were doing another auction in Dallas... awww we made friends!) so we felt right at home and started looking around., 490\n",
      "It's been a rough week for Instagram. First they came out with a new terms of service that suggested the right to let companies use people's photos for advertisements without the user's permission. Then everyone started freaking out and debating whether or not to leave the onl ...more, 522\n",
      "The project was run as a collaboration between the Triangle Project – a Cape Town-based non-profit organisation offering services to protect and promote the human rights of lesbian, gay, bisexual, transgender, intersex and queer (LGBTIQ+) people – and UCT, a partnership that was brought together by the UCT Knowledge Co-Op., 532\n",
      "In an ideal world, it is recommended to save one-third of your income (yeah, right!); we know that isn’t always possible, but every little bit counts. Check the bank accounts that will reward your money the most and start saving. Use it as a savings account only., 540\n",
      "While addressing prejudice and promoting inclusivity is important first and foremost because it is the right thing to do, it is also going to be essential to the economic prospects of our city., 553\n",
      "Description : Brandon does it again as he brings us the lovely redhead slut Mylie Moore. This babe has got some serious attitude when it comes to sucking cock, and Brandon can tell right away that this is going to ..., 581\n",
      "What i don’t realize is if truth be told how you’re no longer actually a lot more smartly-appreciated than you may be right now. You are very intelligent. You know therefore considerably with regards to this topic, made me in my view consider it from a lot of varied angles. Its like men and women don’t seem to be involved unless it is something to accomplish with Lady gaga! Your personal stuffs excellent. At all times take care of it up!, 591\n",
      "you are in point of fact a just right webmaster. The site loading pace is amazing. It kind of feels that you are doing any distinctive trick. In addition, The contents are masterpiece. you have performed a great activity on this subject!, 600\n",
      "Howdy very nice web site!! Man .. Beautiful .. Superb .. I will bookmark your blog and take the feeds also¡KI’m glad to search out a lot of useful information right here in the post, we need develop more techniques in this regard, thank you for sharing. . . . . ., 610\n",
      "I will right away take hold of your rss feed as I can’t in finding your e-mail subscription hyperlink or e-newsletter service. Do you’ve any? Please allow me realize so that I may subscribe. Thanks., 621\n",
      "Hi there very nice site!! Guy .. Beautiful .. Wonderful .. I will bookmark your web site and take the feeds additionally¡KI’m glad to search out a lot of useful information right here in the put up, we need develop more strategies on this regard, thanks for sharing. . . . . ., 630\n",
      "hey there and thank you for your info – I have definitely picked up something new from right here. I did however expertise a few technical points using this website, as I experienced to reload the web site lots of times previous to I could get it to load correctly. I had been wondering if your hosting is OK? Not that I am complaining, but sluggish loading instances times will sometimes affect your placement in google and can damage your high quality score if advertising and marketing with Adwords. Anyway I am adding this RSS to my email and can look out for a lot more of your respective fascinating content. Make sure you update this again soon.., 640\n",
      "Whats up very cool website!! Man .. Excellent .. Amazing .. I will bookmark your website and take the feeds also¡KI’m glad to search out numerous useful information right here in the post, we need work out extra strategies on this regard, thank you for sharing. . . . . ., 650\n",
      "Hi there! I simply wish to offer you a huge thumbs up for your great information you have got right here on this post. I will be coming back to your web site for more soon., 660\n",
      "Hello! I simply want to give you a big thumbs up for the great info you’ve got right here on this post. I will be returning to your blog for more soon., 670\n",
      "I’ve been browsing online more than 3 hours today, but I never found any fascinating article like yours. It is beautiful worth sufficient for me. In my opinion, if all webmasters and bloggers made just right content as you probably did, the web might be a lot more helpful than ever before., 683\n",
      "Hello there! I just want to offer you a huge thumbs up for your excellent info you’ve got right here on this post. I am returning to your blog for more soon., 690\n",
      "you’re actually a just right webmaster. The site loading speed is amazing. It kind of feels that you’re doing any unique trick. In addition, The contents are masterwork. you have done a magnificent task in this matter!, 700\n",
      "I will right away grab your rss feed as I can not find your email subscription link or e-newsletter service. Do you have any? Please let me recognise so that I could subscribe. Thanks., 711\n",
      "In both TV as well as The movies, there’s a topic which has carried out quite well in the past couple of years: Zombies. This concept has created for some quite fun, majorly outstanding, and award-winning programs and blockbusters. Though it’s only fiction, right?, 730\n",
      "Helping to make matters more intense, extended insufficient sleep creates over production of cortisol. Cortisol in it’s right amount may help us to sense some tension and urgency to get things done. However when it’s overproduced, it causes us to feel stressed, anxious, as well as uneasy continually. This might lead to even deeper medical challenges of anxiety and depression. Not surprisingly, sleep loss is harmful for any individuals., 740\n",
      "The third layer is Super Soft Quilted Memory Foam. As you lay on the bed mattress, the leading 2 layers sink right in to this layer, which supplies an extremely soft give that you feel instantly. It becomes part of the engineering that gives just the right amount of strong assistance while additionally giving softness as well as comfort., 750\n",
      "Cry me a river, right? This birthday is stupid., 760\n",
      "It’s a full plate for Wallace, who is in a super tight Sunoco Rookie of the Year battle with 20-year old Hendrick Motorsports driver William Byron. And it’s been an emotional learning curve at times – right from the green flag of the season-opening Daytona 500, NASCAR’s biggest race of the year., 770\n",
      "I am 7 months pregnant, with a bouncing baby girl. Very excited and can't wait for her to introduce herself to this world! But I will not want or have my child around anyone who believes in belittling others. It clearly shows how there child will be raised. I'm sure your parent once told you if \"If you have nothing nice to say than don't say anything at all\" plain in simple this is for expecting mothers to share there thoughts with others not to bring down women!!! News Flash to all you who think Kim was right -__-, 783\n",
      "well im 7 months pregnant and my baby is sitting very oddly in my stomach.. almost like shes sitting up in my right side. im not sure if this is normal but im kindve scared.. anyone know what's going on?, 794\n",
      "Well some ppl get angry when they see how some people type... I mean, if your going to say something or spell something, itd might as well b right...right? why do it the wrong way, 800\n",
      "As I am 30 almost 31 weeks on Friday with my first baby boy. I am right there with this young lady who had her baby and posted the first comment. You do not know what to expect or feeling or have pre-automated instructions programed into you. So wise up and quit cyber bullying!, 820\n",
      "great. I really like what you have got right here, certainly like what, 830\n",
      "Hi there! I just wish to give you a big thumbs up for the great information you have right here on this post., 840\n",
      "What i don't realize is actually how you are no longer really a lot more smartly-appreciated than you may be right now., 851\n"
     ]
    },
    {
     "name": "stdout",
     "output_type": "stream",
     "text": [
      "I do not even know how I finished up right here, but I assumed this post was once great., 860\n",
      "However, the attorney, you should find a specialized understanding of the civil-rights laws., 872\n",
      "plus have a very good notion of if they are the right choice for you after reviewing this informative article., 883\n",
      "causes trouble to you, or the right choice., 893\n",
      "The current favorite right now is Zombies Live, and they are, 901\n",
      "the NHS at the moment, with regards to National healthcare, you're dead right!, 913\n",
      "We all know that classics worth more than the normal ones right., 920\n",
      "likely be right up your street. This is further expandable up to 32 GB via inserting a micro - SD card., 930\n",
      "It's an e-book, written by a former sciatica sufferer. I admit, I learned a lot from him. He taught me almost everything about sciatica and how to cure it. I followed everything carefully and I've got prompt results - I completely got rid of sciatica in only 1 week. Crazy right? Till now it's not coming back, so I started to think that the result was permanent., 940\n",
      "With this system, exactly the right amount of water is, 950\n",
      "Come to think of it, celebrity gossip sites do things the right way, when, 961\n",
      "the same time, and while the rest are perfect as evening dresses, these are just the right, 970\n",
      "right. This post actually made my day. You cann't imagine just how much time, 980\n",
      "Yes, over time by doing the right things consistently well and working with real commitment you can build an amazing homeworking business with Holidaysplease, and many of our team have done so. But it is no easy ride., 993\n",
      "Sign up now or contact us for more information. Everyone, committed students and those wondering if our workshops are right for them, are invited into our free writer’s community for women. Sign up to join us in this private Facebook group., 1000\n",
      "This question seems simple, so many people fail to prepare for it, but it's crucial. Here's the deal: Don't give your complete employment (or personal) history As Paperhanger Assistant. Instead give a pitch—one that’s concise and compelling and that shows exactly why you’re the right fit for the job. Start off with the 2-3 specific accomplishments or experiences that you most want the interviewer to know about, then wrap up talking about how that prior experience has positioned you for this specific role., 1010\n",
      "If you’re ready to get your FREE estimate and learn which commercial roofing solution is right for you, contact John Beal Roofing today!, 1020\n",
      "right in front of my eyes. There is no enormity of which the woman is, 1030\n",
      "be excused. I hold that it is the inalienable right of every free man to, 1042\n",
      "half-sideways, so that the light falls from the writer's right front., 1054\n",
      "NEIL.: Because I have no right to keep it. I was sent to Parliament to, 1082\n",
      "didn't think Archie'd mention it. He had no right to tell me things like, 1092\n",
      "NEIL.: Well, it serves you right for trifling with my affections., 1100\n",
      "working-classes as long as I'm all right?, 1110\n",
      "But I think Poppy was right; she said it was your profile., 1123\n",
      "\"1. During construction, the right, 1150\n",
      "right of way as provided above., 1160\n",
      "the right of way must be cut up, removed to right of way, and there, 1170\n",
      "\"4. The right of way of every railway company must at all times be, 1180\n",
      "proximity to the right of way, railway companies and their contractors,, 1190\n",
      "As a coach, Patricia offers just the right blend of support, assertiveness and a wealth of good information on time management, organization, self-motivation and goal setting to help me stay on track. The coach concept is extremely effective and so is Patricia. I highly recommend her to anyone serious about being accountable for and actually achieving their goals and dreams., 1200\n",
      "1.1. The Human Immunodeficiency Virus (HIV) and the Acquired Immune Deficiency Syndrome (AIDS) are serious public health problems which, have socio economic, employment and human rights implications., 1212\n",
      "creating a balance between the rights and responsibilities of all parties; and, 1222\n",
      "awareness, education and training on the rights of all persons with regard to HIV and AIDS;, 1232\n",
      "7.2.1. All persons with HIV or AIDS have the legal right to privacy. An employee is therefore not legally required to disclose his or her HIV status to their employer or to other employees., 1242\n",
      "- I have some ibuprofen. Take it right now. It will help you., 1261\n",
      "Smith says he never got any kind of confirmation, bill or policy and remained uninsured. Now the Charlotte woman is wondering: How can he do it this year and make sure it’s right?, 1270\n",
      "“People should go ahead and sign up, and the Supreme Court will hopefully go the right way,” said Jost, a law professor who's the author of a health law casebook. “Why would (Congress) have created the federal exchange if it can’t do anything?”, 1283\n",
      "Dear lord. Saratoga. You might as well get your seersucker suit out right now., 1291\n",
      "Only if you have to. Brushing back ain’t anything new to pitching. I’m just a little dirty about it. Backs guys right the fuck off the plate and it makes owning the inside that much easier., 1300\n",
      "Would Tony Conigliaro have been a HOFer if he didn’t get hurt? Impossible to say, but his numbers were on the right track., 1310\n",
      "“Oh, I’m pointing that out because I’m a Giants homer, right?”, 1320\n",
      "Not a big difference, right? The ‘27 Yankees had 1644 hits, the ‘12 Giants 1495, a difference of 149, or almost one per game., 1330\n",
      "It happens once in awhile, so by that standard, you’re right., 1343\n",
      "“on the graph..each dot represents one team, right?”, 1350\n",
      "More and more guys are following into the wanna-be Sports Center highlight reel approach to hitting as opposed to doing what is best for their team. No need to learn to properly bunt or hit the ball to the right side to move runners along when you can swing from your heels to be Superman and attempt to pad your stats for your next contract., 1364\n",
      "“Well, that’s up to the Phillies to decide, really…but compare his 2012 season with his 2010 season, the one he had right before he signed that contract. Aside from W/L, they’re virtually indistinguishable”, 1370\n",
      "Maintaining a deadpan delivery even as howls of laughter began, Martin added, \"I apologize if it was necessary for me to leave my seat briefly, but I did not mean to forfeit my right to vote.\", 1382\n",
      "\"This is to ensure that children's rights to education is not disrupted even when schools have been closed,\" says Wongani Grace Taulo, UNICEF's education chief in Sierra Leone. \"It's been more than half a year of school closure. The implications can be devastating when children just stay home [and] lose out on their academic gains.\", 1392\n",
      "And that's a \"generous estimate,\" says Chernor Bah, a girl's rights advocate from Sierra Leone. He's been helping make sure the radio program reaches as many underserved children as possible., 1402\n",
      "In the back of the Oxford practice room, the coach, Hanneke Wilson, is setting things up. She's published a book about wine. She oversees a wine cellar. And right now, she's struggling to uncork a few bottles., 1411\n",
      "Early in the morning on their big day, the team will head over to the train station. Ren Lim, a doctoral student in biophysics, has made this trip three times to represent Oxford. He says that on the train there is a scramble to find seats together. Then they pop open a bottle, cover the label and do a quick practice session right there., 1420\n",
      "When the sock comes off, Tarkowski has guessed right — full marks. It's been a good practice., 1433\n",
      "I haven’t studied in a long time. How do I know if online is right for me?, 1440\n",
      "If you’re interested in a career that combines theory and practical work, and a rewarding career that will help you make a difference, VET is the right choice for you., 1453\n"
     ]
    },
    {
     "name": "stdout",
     "output_type": "stream",
     "text": [
      "Good question! If you’re studying a practical subject, such as Vet Nursing or Allied Health, you’ll be required to complete Structured Workplace Learning (also known as a work placement) to get the hands-on experience you need. You’ll be responsible for setting this up but there is always help available to find the right workplace for you. Open Colleges also hosts workshops and conferences linked to a range of subjects to help build your skills and network with industry experts., 1460\n",
      "These presentations are classified and categorized, so you will always find everything clearly laid out and in context. You are watching Carn Paper On Participatory action research presentation right now. We are staying up to date!, 1471\n",
      "You're damn right. Even my girlfriend Kay Adams said something to the effect of how I feel which is why do I feel so good about Seattle after a loss?, 1480\n",
      "right, my child!--the Emperor is a god!\", 1520\n",
      "they say is right,\" she thought, \"it is not his fault--he has grown, 1530\n",
      "He demanded his rights on principle, and then when they were paid,, 1542\n",
      "Master Arfoll is a good man, whether he is right or wrong. But beware,, 1553\n",
      "his waistcoat pocket, while his right hand made a pass in the air and, 1564\n",
      "lame, and hath a great hunch on one shoulder, and two of his right-, 1570\n",
      "\"Silence, Yvonne Penvenn; you have no right to say such things; and as, 1582\n",
      "compel me to be a soldier. Before God. I deny his right to summon me, 1622\n",
      "utter their right minds. And he is no coward, but a brave man--yes,, 1630\n",
      "who are a good man, with a heart for the poor--is it right that these, 1640\n",
      "wars should take place? is it right that five hundred thousand men, 1653\n",
      "should have perished as they did with last year's snow? is it right, 1663\n",
      "right, then, mark you, Christ is wrong, and there is no place left in, 1670\n",
      "deserved your rebuke, for you are right and I was wrong. It is wrong, 1713\n",
      "I say in my heart, 'God bless him! he is right!--he is a brave man,, 1723\n",
      "not trust me, and I have no right to vex you. But if you knew! if you, 1732\n",
      "for the wind blew right into them; but on one or two thresholds men, 1740\n",
      "\"When you have once smelt powder, it will be all right,\" returned, 1750\n",
      "drawing, and would have given thy right arm not to go.\", 1764\n",
      "left nor right. He rode a white horse, and Jacques said he looked like, 1794\n",
      "when I heard the black sea roaring right under us--my heart went cold., 1800\n",
      "proceeded--\"There is a cut here, through the right sleeve--it is, 1814\n",
      "was no trace. At high water, however, the tide washed right up against, 1820\n",
      "very sad. It is right for you to make merry, mes garz, because you are, 1833\n",
      "young, and because there will be a good harvest; but it is also right, 1843\n",
      "\"Listen,\" said Mikel. \"The Cathedral is right under us, and I will, 1850\n",
      "\"Holy Virgin, he is right--it is the tide!\", 1863\n",
      "frequent, or even (as we have seen on one occasion) let them right, 1880\n",
      "beheld for the first time, right under him in the moonlight, something, 1900\n",
      "man cannot set the world right if it is in error; and it is one's, 1910\n",
      "all right again, and merry as a cricket. Ah! it is a brave life, he, 1920\n",
      "\"Ho�l is all right, mother, and sends his love. Ah, he has never had a, 1930\n",
      "[1, 2, 0, 0, 3, 1, 3, 1, 1, 3, 0, 3, 1, 0, 1, 1, 1, 3, 1, 0, 1, 3, 2, 2, 1, 3, 4, 0, 1, 4, 3, 1, 2, 1, 0, 1, 0, 0, 0, 2, 2, 0, 3, 1, 1, 0, 0, 1, 0, 0, 0, 0, 0, 3, 0, 0, 1, 0, 0, 0, 0, 0, 3, 4, 0, 0, 0, 0, 1, 0, 2, 3, 3, 1, 3, 0, 0, 0, 0, 1, 0, 0, 3, 0, 0, 0, 0, 2, 4, 2, 2, 0, 0, 3, 0, 0, 0, 0, 0, 0, 2, 2, 2, 2, 1, 0, 3, 1, 0, 0, 0, 0, 3, 0, 4, 0, 2, 2, 2, 1, 0, 3, 0, 3, 0, 1, 0, 0, 0, 2, 3, 4, 0, 2, 2, 0, 0, 3, 3, 0, 3, 3, 2, 0, 0, 4, 4, 0, 4, 0, 3, 3, 0, 3, 0, 0, 0, 0, 0]\n"
     ]
    }
   ],
   "source": [
    "#manually labeld them into 5 categories (1:immediately,2:privilege,3:correct,4:opposite direction of left,0:other,unknown)\n",
    "labels = []\n",
    "for i in texts_index:\n",
    "    print(texts[i],i,end=\"\")\n",
    "    label = int(input())\n",
    "    if label == 99:\n",
    "        break\n",
    "    labels.append(label)\n",
    "print(labels)"
   ]
  },
  {
   "cell_type": "code",
   "execution_count": 235,
   "id": "cd5e229c",
   "metadata": {
    "scrolled": true
   },
   "outputs": [
    {
     "name": "stdout",
     "output_type": "stream",
     "text": [
      "(159, 2)\n"
     ]
    },
    {
     "data": {
      "image/png": "[encoded data removed]",
      "text/plain": [
       "<Figure size 432x288 with 1 Axes>"
      ]
     },
     "metadata": {
      "needs_background": "light"
     },
     "output_type": "display_data"
    }
   ],
   "source": [
    "right_labels = np.array(labels)\n",
    "#dimentionality reduction by t-SNE\n",
    "t_sne = TSNE(random_state=0).fit_transform(vectors)\n",
    "print(t_sne.shape)\n",
    "\n",
    "fig, ax = plt.subplots()\n",
    "ax.scatter(t_sne[right_labels==0,0], t_sne[right_labels==0,1], c='black')\n",
    "ax.scatter(t_sne[right_labels==1,0], t_sne[right_labels==1,1], c='blue')\n",
    "ax.scatter(t_sne[right_labels==2,0], t_sne[right_labels==2,1], c='green')\n",
    "ax.scatter(t_sne[right_labels==3,0], t_sne[right_labels==3,1], c='yellow')\n",
    "ax.scatter(t_sne[right_labels==4,0], t_sne[right_labels==4,1], c='red')\n",
    "ax.legend((\"other,unknowm\",\"immediately\",\"privilege\",\"correct\",\"→\"),loc='lower right')\n",
    "plt.show()"
   ]
  },
  {
   "cell_type": "markdown",
   "id": "ee04eb16",
   "metadata": {},
   "source": [
    "## Below are the installed libraries"
   ]
  },
  {
   "cell_type": "code",
   "execution_count": 1,
   "id": "abdcde9e",
   "metadata": {},
   "outputs": [
    {
     "name": "stdout",
     "output_type": "stream",
     "text": [
      "Requirement already satisfied: datasets in c:\\users\\81702\\anaconda3\\lib\\site-packages (2.3.2)\n",
      "Requirement already satisfied: packaging in c:\\users\\81702\\anaconda3\\lib\\site-packages (from datasets) (21.0)\n",
      "Requirement already satisfied: fsspec[http]>=2021.05.0 in c:\\users\\81702\\anaconda3\\lib\\site-packages (from datasets) (2021.10.1)\n",
      "Requirement already satisfied: dill<0.3.6 in c:\\users\\81702\\anaconda3\\lib\\site-packages (from datasets) (0.3.5.1)\n",
      "Requirement already satisfied: multiprocess in c:\\users\\81702\\anaconda3\\lib\\site-packages (from datasets) (0.70.13)\n",
      "Requirement already satisfied: huggingface-hub<1.0.0,>=0.1.0 in c:\\users\\81702\\anaconda3\\lib\\site-packages (from datasets) (0.8.1)\n",
      "Requirement already satisfied: responses<0.19 in c:\\users\\81702\\anaconda3\\lib\\site-packages (from datasets) (0.18.0)\n",
      "Requirement already satisfied: aiohttp in c:\\users\\81702\\anaconda3\\lib\\site-packages (from datasets) (3.8.1)\n",
      "Requirement already satisfied: numpy>=1.17 in c:\\users\\81702\\anaconda3\\lib\\site-packages (from datasets) (1.20.3)\n",
      "Requirement already satisfied: xxhash in c:\\users\\81702\\anaconda3\\lib\\site-packages (from datasets) (3.0.0)\n",
      "Requirement already satisfied: tqdm>=4.62.1 in c:\\users\\81702\\anaconda3\\lib\\site-packages (from datasets) (4.62.3)\n",
      "Requirement already satisfied: pandas in c:\\users\\81702\\anaconda3\\lib\\site-packages (from datasets) (1.3.4)\n",
      "Requirement already satisfied: pyarrow>=6.0.0 in c:\\users\\81702\\anaconda3\\lib\\site-packages (from datasets) (8.0.0)\n",
      "Requirement already satisfied: requests>=2.19.0 in c:\\users\\81702\\anaconda3\\lib\\site-packages (from datasets) (2.26.0)\n",
      "Requirement already satisfied: pyyaml>=5.1 in c:\\users\\81702\\anaconda3\\lib\\site-packages (from huggingface-hub<1.0.0,>=0.1.0->datasets) (6.0)\n",
      "Requirement already satisfied: typing-extensions>=3.7.4.3 in c:\\users\\81702\\anaconda3\\lib\\site-packages (from huggingface-hub<1.0.0,>=0.1.0->datasets) (3.10.0.2)\n",
      "Requirement already satisfied: filelock in c:\\users\\81702\\anaconda3\\lib\\site-packages (from huggingface-hub<1.0.0,>=0.1.0->datasets) (3.3.1)\n",
      "Requirement already satisfied: pyparsing>=2.0.2 in c:\\users\\81702\\anaconda3\\lib\\site-packages (from packaging->datasets) (3.0.4)\n",
      "Requirement already satisfied: urllib3<1.27,>=1.21.1 in c:\\users\\81702\\anaconda3\\lib\\site-packages (from requests>=2.19.0->datasets) (1.26.7)\n",
      "Requirement already satisfied: charset-normalizer~=2.0.0 in c:\\users\\81702\\anaconda3\\lib\\site-packages (from requests>=2.19.0->datasets) (2.0.4)\n",
      "Requirement already satisfied: certifi>=2017.4.17 in c:\\users\\81702\\anaconda3\\lib\\site-packages (from requests>=2.19.0->datasets) (2021.10.8)\n",
      "Requirement already satisfied: idna<4,>=2.5 in c:\\users\\81702\\anaconda3\\lib\\site-packages (from requests>=2.19.0->datasets) (3.2)\n",
      "Requirement already satisfied: colorama in c:\\users\\81702\\anaconda3\\lib\\site-packages (from tqdm>=4.62.1->datasets) (0.4.4)\n",
      "Requirement already satisfied: yarl<2.0,>=1.0 in c:\\users\\81702\\anaconda3\\lib\\site-packages (from aiohttp->datasets) (1.7.2)\n",
      "Requirement already satisfied: attrs>=17.3.0 in c:\\users\\81702\\anaconda3\\lib\\site-packages (from aiohttp->datasets) (21.2.0)\n",
      "Requirement already satisfied: frozenlist>=1.1.1 in c:\\users\\81702\\anaconda3\\lib\\site-packages (from aiohttp->datasets) (1.3.0)\n",
      "Requirement already satisfied: async-timeout<5.0,>=4.0.0a3 in c:\\users\\81702\\anaconda3\\lib\\site-packages (from aiohttp->datasets) (4.0.2)\n",
      "Requirement already satisfied: aiosignal>=1.1.2 in c:\\users\\81702\\anaconda3\\lib\\site-packages (from aiohttp->datasets) (1.2.0)\n",
      "Requirement already satisfied: multidict<7.0,>=4.5 in c:\\users\\81702\\anaconda3\\lib\\site-packages (from aiohttp->datasets) (6.0.2)\n",
      "Requirement already satisfied: python-dateutil>=2.7.3 in c:\\users\\81702\\anaconda3\\lib\\site-packages (from pandas->datasets) (2.8.2)\n",
      "Requirement already satisfied: pytz>=2017.3 in c:\\users\\81702\\anaconda3\\lib\\site-packages (from pandas->datasets) (2021.3)\n",
      "Requirement already satisfied: six>=1.5 in c:\\users\\81702\\anaconda3\\lib\\site-packages (from python-dateutil>=2.7.3->pandas->datasets) (1.16.0)\n"
     ]
    }
   ],
   "source": [
    "!pip install datasets"
   ]
  },
  {
   "cell_type": "code",
   "execution_count": 34,
   "id": "d51f1d4f",
   "metadata": {},
   "outputs": [
    {
     "name": "stdout",
     "output_type": "stream",
     "text": [
      "Collecting transformers\n",
      "  Downloading transformers-4.20.1-py3-none-any.whl (4.4 MB)\n",
      "Requirement already satisfied: tqdm>=4.27 in c:\\users\\81702\\anaconda3\\lib\\site-packages (from transformers) (4.62.3)\n",
      "Collecting tokenizers!=0.11.3,<0.13,>=0.11.1\n",
      "  Downloading tokenizers-0.12.1-cp39-cp39-win_amd64.whl (3.3 MB)\n",
      "Requirement already satisfied: filelock in c:\\users\\81702\\anaconda3\\lib\\site-packages (from transformers) (3.3.1)\n",
      "Requirement already satisfied: regex!=2019.12.17 in c:\\users\\81702\\anaconda3\\lib\\site-packages (from transformers) (2021.8.3)\n",
      "Requirement already satisfied: huggingface-hub<1.0,>=0.1.0 in c:\\users\\81702\\anaconda3\\lib\\site-packages (from transformers) (0.8.1)\n",
      "Requirement already satisfied: pyyaml>=5.1 in c:\\users\\81702\\anaconda3\\lib\\site-packages (from transformers) (6.0)\n",
      "Requirement already satisfied: numpy>=1.17 in c:\\users\\81702\\anaconda3\\lib\\site-packages (from transformers) (1.20.3)\n",
      "Requirement already satisfied: requests in c:\\users\\81702\\anaconda3\\lib\\site-packages (from transformers) (2.26.0)\n",
      "Requirement already satisfied: packaging>=20.0 in c:\\users\\81702\\anaconda3\\lib\\site-packages (from transformers) (21.0)\n",
      "Requirement already satisfied: typing-extensions>=3.7.4.3 in c:\\users\\81702\\anaconda3\\lib\\site-packages (from huggingface-hub<1.0,>=0.1.0->transformers) (3.10.0.2)\n",
      "Requirement already satisfied: pyparsing>=2.0.2 in c:\\users\\81702\\anaconda3\\lib\\site-packages (from packaging>=20.0->transformers) (3.0.4)\n",
      "Requirement already satisfied: colorama in c:\\users\\81702\\anaconda3\\lib\\site-packages (from tqdm>=4.27->transformers) (0.4.4)\n",
      "Requirement already satisfied: urllib3<1.27,>=1.21.1 in c:\\users\\81702\\anaconda3\\lib\\site-packages (from requests->transformers) (1.26.7)\n",
      "Requirement already satisfied: certifi>=2017.4.17 in c:\\users\\81702\\anaconda3\\lib\\site-packages (from requests->transformers) (2021.10.8)\n",
      "Requirement already satisfied: idna<4,>=2.5 in c:\\users\\81702\\anaconda3\\lib\\site-packages (from requests->transformers) (3.2)\n",
      "Requirement already satisfied: charset-normalizer~=2.0.0 in c:\\users\\81702\\anaconda3\\lib\\site-packages (from requests->transformers) (2.0.4)\n",
      "Installing collected packages: tokenizers, transformers\n",
      "Successfully installed tokenizers-0.12.1 transformers-4.20.1\n"
     ]
    }
   ],
   "source": [
    "!pip install transformers"
   ]
  },
  {
   "cell_type": "code",
   "execution_count": 35,
   "id": "6b2811b1",
   "metadata": {},
   "outputs": [
    {
     "name": "stdout",
     "output_type": "stream",
     "text": [
      "Collecting torch\n",
      "  Downloading torch-1.11.0-cp39-cp39-win_amd64.whl (157.9 MB)\n",
      "Collecting torchvision\n",
      "  Downloading torchvision-0.12.0-cp39-cp39-win_amd64.whl (1.0 MB)\n",
      "Requirement already satisfied: typing-extensions in c:\\users\\81702\\anaconda3\\lib\\site-packages (from torch) (3.10.0.2)\n",
      "Requirement already satisfied: numpy in c:\\users\\81702\\anaconda3\\lib\\site-packages (from torchvision) (1.20.3)\n",
      "Requirement already satisfied: requests in c:\\users\\81702\\anaconda3\\lib\\site-packages (from torchvision) (2.26.0)\n",
      "Requirement already satisfied: pillow!=8.3.*,>=5.3.0 in c:\\users\\81702\\anaconda3\\lib\\site-packages (from torchvision) (8.4.0)\n",
      "Requirement already satisfied: charset-normalizer~=2.0.0 in c:\\users\\81702\\anaconda3\\lib\\site-packages (from requests->torchvision) (2.0.4)\n",
      "Requirement already satisfied: idna<4,>=2.5 in c:\\users\\81702\\anaconda3\\lib\\site-packages (from requests->torchvision) (3.2)\n",
      "Requirement already satisfied: certifi>=2017.4.17 in c:\\users\\81702\\anaconda3\\lib\\site-packages (from requests->torchvision) (2021.10.8)\n",
      "Requirement already satisfied: urllib3<1.27,>=1.21.1 in c:\\users\\81702\\anaconda3\\lib\\site-packages (from requests->torchvision) (1.26.7)\n",
      "Installing collected packages: torch, torchvision\n",
      "Successfully installed torch-1.11.0 torchvision-0.12.0\n"
     ]
    }
   ],
   "source": [
    "!pip3 install torch torchvision"
   ]
  }
 ],
 "metadata": {
  "kernelspec": {
   "display_name": "Python 3 (ipykernel)",
   "language": "python",
   "name": "python3"
  },
  "language_info": {
   "codemirror_mode": {
    "name": "ipython",
    "version": 3
   },
   "file_extension": ".py",
   "mimetype": "text/x-python",
   "name": "python",
   "nbconvert_exporter": "python",
   "pygments_lexer": "ipython3",
   "version": "3.9.7"
  }
 },
 "nbformat": 4,
 "nbformat_minor": 5
}
